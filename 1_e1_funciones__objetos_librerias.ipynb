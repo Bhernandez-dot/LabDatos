{
 "cells": [
  {
   "cell_type": "markdown",
   "metadata": {},
   "source": [
    "# MA6202: Laboratorio de Ciencia de Datos\n",
    "\n",
    "**Profesor: Nicolás Caro**\n",
    "\n",
    "**24/04/2020 - E1 S4**\n",
    "\n",
    "\n",
    "**Integrantes del grupo**: \n",
    "\n",
    "    1. Bruno Hernández P.\n",
    "    2. Guillermo Dinamarca\n",
    "    3. Pablo Troncoso P."
   ]
  },
  {
   "cell_type": "markdown",
   "metadata": {},
   "source": [
    "## Ejercicio 1\n",
    "\n",
    "La estructura de esta evaluación consta de 7 preguntas. Se evaluá desde la pregunta 1 a la 6, la pregunta 7 es opcional. Tenga en cuenta que un problema de programación puede (por lo general) resolverse de múltiples maneras. Sin embargo, para optar al puntaje completo en cada pregunta, siga las indicaciones de los enunciados y utilice solo herramientas vistas en el curso. \n",
    "\n",
    "En lo que sigue de la evaluación, **no** estará permitido usar librerías ni módulos diferentes a los declarados en la siguiente celda. "
   ]
  },
  {
   "cell_type": "code",
   "execution_count": 5,
   "metadata": {},
   "outputs": [],
   "source": [
    "'''Celda de modulos obligatorios.'''\n",
    "\n",
    "# Librerias de manejo de consultas\n",
    "import requests\n",
    "import json\n",
    "\n",
    "# Stack cientifico\n",
    "import numpy as np\n",
    "from scipy import stats\n",
    "\n",
    "# Librerias de manejo de tiemop\n",
    "from datetime import date, datetime\n",
    "from time import sleep\n",
    "\n",
    "# Manejo de funciones\n",
    "from functools import singledispatch, update_wrapper"
   ]
  },
  {
   "cell_type": "markdown",
   "metadata": {},
   "source": [
    "El objetivo global de esta evaluación es medir conocimientos sobre el manejo de objetos, decoradores y librerías. \n",
    "De manera simultanea, se evaluará el manejo del sistema *Git*. Por tal motivo, para este ejercicio se exige:\n",
    "\n",
    "1. Generar un repositorio de control de versiones *Git* donde se trabajará con este archivo.\n",
    "2. Por lo menos un commit por pregunta. \n",
    "3. Por lo menos un merge. \n",
    "\n",
    "El formato de entrega de esta evaluación es un archivo **.zip** con el repositorio correspondiente a este trabajo. "
   ]
  },
  {
   "cell_type": "markdown",
   "metadata": {},
   "source": [
    "### Primera Parte: Construcción de consultas\n",
    "\n",
    "Una interfaz de programación de aplicaciones, API por sus siglas en ingles, es un conjunto de rutinas, protocolos y herramientas para crear software. Básicamente, su función es especificar cómo interactúan los componentes de una aplicación. \n",
    "\n",
    "Existe una variedad de API's con las que se puede acceder a bases de datos, estas funcionan como una capa de software intermedia, que acepta peticiones de usuarios (consultas) y entrega información empaquetada en alguna estructura estándar (respuestas). \n",
    "\n",
    "Una API en particular es la de [United States Geological Survey (USGS)](https://earthquake.usgs.gov/fdsnws/event/1/). Esta API permite acceder a bases de datos contenedoras de información sobre movimientos telúricos en todo el mundo. \n",
    "\n",
    "El objetivo de esta primera parte, es conectarse a la API de _USGS_ para recolectar la información de tales eventos entre los años 1920 y 2020. \n",
    "\n",
    "Para comenzar preste atención al siguiente *decorador*."
   ]
  },
  {
   "cell_type": "code",
   "execution_count": 6,
   "metadata": {},
   "outputs": [],
   "source": [
    "def singledispatchmeth(func):\n",
    "    ''' Decorador que extiende a functools.singledispatch.\n",
    "    \n",
    "    Se puede utilizar sobre un metodo dentro de la definicion de una clase \n",
    "    para posteriormente registrar comportamientos según tipo de dato, dentro \n",
    "    de la misma clase.\n",
    "    \n",
    "    Args: \n",
    "    \n",
    "        func: function, class method\n",
    "             Metodo a decorar\n",
    "    \n",
    "    Returns:\n",
    "    \n",
    "        class method\n",
    "            Retorna un metodo del tipo singledispatch.\n",
    "            \n",
    "    '''\n",
    "    \n",
    "    despachador = singledispatch(func)\n",
    "\n",
    "    def wrapper(*args, **kwargs):\n",
    "        return despachador.dispatch(args[1].__class__)(*args, **kwargs)\n",
    "\n",
    "    wrapper.register = despachador.register\n",
    "    wrapper.registry = despachador.registry\n",
    "    update_wrapper(wrapper, func)\n",
    "    \n",
    "    return wrapper"
   ]
  },
  {
   "cell_type": "markdown",
   "metadata": {},
   "source": [
    "Como podrá ver, la función anterior permite **replicar exactamente** el comportamiento del decorador `@functools.singledispatch` **sobre métodos** dentro de la definición de una clase. \n",
    "\n",
    "\n",
    "### Pregunta 1 \n",
    "\n",
    "Se busca hacer consultas temporales a la API de USGS, por este motivo es necesario que se extienda la clase `date` de la librería `datetime`. Un objeto tipo `date` se inicializa con 3 argumentos enteros del tipo `año`, `mes`, `dia` (en ese orden).\n",
    "\n",
    "1. Inicialice un objeto tipo `date` para la fecha *01/01/1920*. Muestre en pantalla los atributos `.year`, `.month` y `.day`.\n",
    "\n",
    "2. Extienda la clase `date` a una clase denotada por `DateConSuma`. Esta nueva clase debe sobrecargar el operador `+`, de manera tal, que si `data_s` es un objeto tipo `DateConSuma` y `tup = (a,b,c)` es una tupla de 3 datos tipo `int`, entonces la operación `data_s + tup` retorna un objeto tipo `DateConSuma` con atributos `.year`, `.month` y `.day` validos, dados por `data_s.year + a`,  `data_s.month + b`, `data_s.day + c`. Para esto:\n",
    "    1. Decore adecuadamente el método a sobrecargar, haciendo referencia a la clase base de `DateConSuma` por medio de `super()`.\n",
    "    2. Registre el comportamiento de dicho método decorado para que opere con tuplas, levante una excepción si la tupla a operar no tiene largo 3 o si alguno de sus elementos no es del tipo `int`.\n",
    "    \n",
    "**Obs**: El método resultante no es conmutativo, es decir, no espera que `tup + data_s` esté definido. "
   ]
  },
  {
   "cell_type": "code",
   "execution_count": 56,
   "metadata": {},
   "outputs": [
    {
     "name": "stdout",
     "output_type": "stream",
     "text": [
      "El día es:  1\n",
      "El mes es:  1\n",
      "El año es:  1920\n"
     ]
    }
   ],
   "source": [
    "# Respuesta P1\n",
    "Fecha =  datetime(1920,1,1)\n",
    "print('El día es: ',Fecha.day)\n",
    "print('El mes es: ',Fecha.month)\n",
    "print('El año es: ',Fecha.year)\n",
    "\n",
    "import warnings\n",
    "\n",
    "class DateConSuma(datetime):\n",
    "    def __init__(self, year:int , month:int , day:int):\n",
    "        super().__init__()\n",
    "    def __add__(self, tuple):\n",
    "        if len(tuple)!=3:\n",
    "             return warnings.warn('El tamaño de la tupla debe ser exáctamente 3')\n",
    "        for i in range(3):\n",
    "            if type(tuple[i]) != int:\n",
    "                return warnings.warn('El tipo de dato en la tupla debe ser int, en la posición '+str(i+1) )\n",
    "        \n",
    "        return DateConSuma(self.year + tuple[0], self.month + tuple[1], self.day + tuple[2])\n",
    "    def __str__(self):\n",
    "        return self.strftime(\"%Y-%m-%d\")\n",
    "        "
   ]
  },
  {
   "cell_type": "code",
   "execution_count": 165,
   "metadata": {},
   "outputs": [
    {
     "data": {
      "text/plain": [
       "'1920-01-01'"
      ]
     },
     "execution_count": 165,
     "metadata": {},
     "output_type": "execute_result"
    }
   ],
   "source": [
    "A = (1,2,3)\n",
    "R = DateConSuma(1920,1,1)\n",
    "R.__str__()"
   ]
  },
  {
   "cell_type": "markdown",
   "metadata": {},
   "source": [
    "### Pregunta 2\n",
    "\n",
    "Defina la clase `IteratorFechas` que retorne objetos de la clase `DateConSuma` espaciados cada $n$ años comenzando en 1920-01-01 y finalizando en 2020-01-01. Para ello:\n",
    "\n",
    "1. Defina el atributo estático y privado `desde_fecha`, este se asocia a un objeto `DateConSuma` que representa la fecha 1920-01-01. \n",
    "    \n",
    "2.  Defina el atributo estático y privado `hasta_fecha` este se asocia a un objeto `DateConSuma` que representa la fecha 2020-01-01. \n",
    "    \n",
    "3. El constructor debe recibir el parámetro `n`, cuyo valor se debe almacenar en el atributo `espaciado`.\n",
    "    \n",
    "4. Defina el método mágico `__iter__` donde sólo se retorne el objeto instanciado.\n",
    "\n",
    "5. Defina el método mágico `__next__`. Para esto, si `N` representa el valor del atributo `espaciado`, entonces:\n",
    "    \n",
    "    1. Si `desde_fecha` + `(N,0,0)` (sobrecarga de `+`) representa una fecha anterior a la de `hasta_fecha`, entonces se debe retornar una tupla con el valor de `desde_fecha` en su primera componente y de `desde_fecha` + `(N,0,0)` en su segunda componente. De igual manera, se requiere que el método `__next__` actualice el valor del atributo `desde_fecha` reasignandole el valor `desde_fecha` + `(N,0,0)`. *Hint*: Observe que `DateConSuma` hereda de `date`, por lo tanto las comparaciones del tipo `a < b` son validas para esta nueva clase. \n",
    "    \n",
    "    2.  Si lo anterior no se cumple, entonces levante una excepción del tipo  `StopIteration` con el mensaje, `'fecha final excedida'`.\n",
    "    \n",
    "6. Inicialice el objeto `iter_fechas` de la clase `IteratorFechas` con un espaciado de 5 años. Mediante un ciclo `for` itere sobre `iter_fechas` e imprima sobre las variables iteradoras, de manera tal, que se logre un output del tipo:\n",
    "\n",
    "```\n",
    "        Desde : 1920-01-01 Hasta:  1925-01-01\n",
    "        Desde : 1925-01-01 Hasta:  1930-01-01\n",
    "            ...\n",
    "        Desde : 2015-01-01 Hasta:  2020-01-01\n",
    "```"
   ]
  },
  {
   "cell_type": "code",
   "execution_count": 315,
   "metadata": {},
   "outputs": [],
   "source": [
    "# Respuesta P2\n",
    "\n",
    "class IteratorFechas(object):\n",
    "    def __init__(self,n):\n",
    "        self.__desde_fecha = DateConSuma(1920,1,1)\n",
    "        self.__hasta_fecha = DateConSuma(2020,1,1)\n",
    "        self.espaciado = n\n",
    "        self.intervalos = []\n",
    "    def __iter__(self):\n",
    "        return self.__desde_fecha + (self.espaciado,0,0)\n",
    "    def __next__(self):\n",
    "        if self.__iter__() <= self.__hasta_fecha:\n",
    "            V = (self.__desde_fecha, self.__iter__())\n",
    "            self.__desde_fecha = self.__iter__()\n",
    "            return V\n",
    "    def iter_fechas(self):\n",
    "        while True:\n",
    "            if self.__iter__() <= self.__hasta_fecha:\n",
    "                A = self.__next__()\n",
    "                print('Desde: '+str(A[0])+'  Hasta: ' + str(A[1]))\n",
    "                self.intervalos.append(A)\n",
    "            else:\n",
    "                warnings.warn('fecha final excedida')\n",
    "                break "
   ]
  },
  {
   "cell_type": "code",
   "execution_count": 316,
   "metadata": {},
   "outputs": [
    {
     "name": "stdout",
     "output_type": "stream",
     "text": [
      "Desde: 1920-01-01  Hasta: 1925-01-01\n",
      "Desde: 1925-01-01  Hasta: 1930-01-01\n",
      "Desde: 1930-01-01  Hasta: 1935-01-01\n",
      "Desde: 1935-01-01  Hasta: 1940-01-01\n",
      "Desde: 1940-01-01  Hasta: 1945-01-01\n",
      "Desde: 1945-01-01  Hasta: 1950-01-01\n",
      "Desde: 1950-01-01  Hasta: 1955-01-01\n",
      "Desde: 1955-01-01  Hasta: 1960-01-01\n",
      "Desde: 1960-01-01  Hasta: 1965-01-01\n",
      "Desde: 1965-01-01  Hasta: 1970-01-01\n",
      "Desde: 1970-01-01  Hasta: 1975-01-01\n",
      "Desde: 1975-01-01  Hasta: 1980-01-01\n",
      "Desde: 1980-01-01  Hasta: 1985-01-01\n",
      "Desde: 1985-01-01  Hasta: 1990-01-01\n",
      "Desde: 1990-01-01  Hasta: 1995-01-01\n",
      "Desde: 1995-01-01  Hasta: 2000-01-01\n",
      "Desde: 2000-01-01  Hasta: 2005-01-01\n",
      "Desde: 2005-01-01  Hasta: 2010-01-01\n",
      "Desde: 2010-01-01  Hasta: 2015-01-01\n",
      "Desde: 2015-01-01  Hasta: 2020-01-01\n"
     ]
    },
    {
     "name": "stderr",
     "output_type": "stream",
     "text": [
      "C:\\Users\\paula\\Anaconda3\\lib\\site-packages\\ipykernel_launcher.py:23: UserWarning: fecha final excedida\n"
     ]
    }
   ],
   "source": [
    "R = IteratorFechas(5)\n",
    "R.iter_fechas()"
   ]
  },
  {
   "cell_type": "code",
   "execution_count": 317,
   "metadata": {},
   "outputs": [
    {
     "data": {
      "text/plain": [
       "20"
      ]
     },
     "execution_count": 317,
     "metadata": {},
     "output_type": "execute_result"
    }
   ],
   "source": [
    "len(R.intervalos)"
   ]
  },
  {
   "cell_type": "markdown",
   "metadata": {},
   "source": [
    "La API USGS utiliza el protocolo http para recibir consultas y entregar datos de respuesta. Por lo anterior, para hacer consultas a la API, se deben producir direcciones URL siguiendo un formato especifico, en este caso el formato de consulta sigue el patrón:\n",
    "\n",
    "        https://earthquake.usgs.gov/fdsnws/event/1/ `Metodo?Parametros`\n",
    "    \n",
    "En el campo `Metodo`  se utiliza `query?format=geojson` lo que implica que la respuesta entregada por la API vendrá en formato `.json`, es decir _JavaScript Object Notation_. Para efectos prácticos, este es un formato que permite almacenar información mediante una escritura análoga a los `dict` de Python. Su manejo se hace con la librería `json`. \n",
    "\n",
    "En cuanto al campo `Parametros`, estos están definidos en la documentación de la [API](https://earthquake.usgs.gov/fdsnws/event/1/) y permiten definir la información a consultar. Los parámetros que serán útiles para el ejercicio son:\n",
    "\n",
    "* **Geográficos**: que servirán para definir la zona geográfica de interés mediante un rectangulo de latitudes y longitudes. Estos son: `minlatitude`, `minlongitude`, `maxlatitude` y `maxlongitude`.\n",
    "\n",
    "* **Temporales**: que servirán para definir el periodo de consulta. Se trata de: `starttime` y `endtime`.\n",
    "\n",
    "Por lo anterior, si se desea consultar por los eventos ocurridos entre el primero de enero de 1920 y el primero de enero de 1925 la consulta sería de la forma:\n",
    "\n",
    "[https://earthquake.usgs.gov/fdsnws/event/1/query?format=geojson&starttime=1920-01-01&endtime=1925-01-01&minlatitude=-56.72500008&minlongitude=-80&maxlatitude=-17.49839982&maxlongitude=-66.07534742](https://earthquake.usgs.gov/fdsnws/event/1/query?format=geojson&starttime=1920-01-01&endtime=1925-01-01&minlatitude=-56.72500008&minlongitude=-80&maxlatitude=-17.49839982&maxlongitude=-66.07534742)\n",
    "\n",
    "Note que los parámetros geográficos utilizados son:\n",
    "\n",
    "```python\n",
    "'minlatitude': -56.72500008, \n",
    "'minlongitude': -80,\n",
    "'maxlatitude': -17.49839982,\n",
    "'maxlongitude': -66.07534742,\n",
    "``` "
   ]
  },
  {
   "cell_type": "markdown",
   "metadata": {},
   "source": [
    "### Pregunta 3\n",
    "\n",
    "Dado que la API entrega un máximo de 20.000 respuestas por consulta y que Chile es un país con mucha actividad sísmica, es necesario realizar múltiples consultas para capturar **todos** los movimientos telúricos en cuestión. \n",
    "\n",
    "Para efectos de este ejercicio, las consultas a la API se mantendrán en una zona geográfica fija, es decir, los parámetros geográficos no varían. Se busca entonces, obtener información variando unicamente las parámetros temporales."
   ]
  },
  {
   "cell_type": "markdown",
   "metadata": {},
   "source": [
    "1. Para la clase `ConstructorConsultasUSGS` defina el método `construye_consulta` que usa los atributos privados `fixed_loc` y `base_url`. Además, tal método debe recibir los argumentos `desde_fecha` y `hasta_fecha` para retornar una consulta en string con el formato admitido por la API.  \n",
    "\n",
    "**Ejemplo**\n",
    "\n",
    "Se espera que el método:\n",
    "\n",
    "```python\n",
    "date_1 = DateConSuma(1920, 1, 1)\n",
    "date_2 = DateConSuma(1925, 1, 1)\n",
    "\n",
    "ConstructorConsultasUSGS.construye_consulta(date_1, date_2)\n",
    "```\n",
    "\n",
    "Retorne el string \n",
    "\n",
    "```\n",
    "'https://earthquake.usgs.gov/fdsnws/event/1/query?format=geojson&starttime=1920-01-01&endtime=1925-01-01&minlatitude=-56.72500008&minlongitude=-80&maxlatitude=-17.49839982&maxlongitude=-66.07534742'\n",
    "```"
   ]
  },
  {
   "cell_type": "code",
   "execution_count": 318,
   "metadata": {},
   "outputs": [],
   "source": [
    "class ConstructorConsultasUSGS:\n",
    "    '''Clase constructora de consultas a la API USGS.'''\n",
    "\n",
    "    # Atributos fijos de consulta\n",
    "    __fixed_loc = {\n",
    "        'minlatitude': -56.72500008,\n",
    "        'minlongitude': -80,\n",
    "        'maxlatitude': -17.49839982,\n",
    "        'maxlongitude': -66.07534742,\n",
    "    }\n",
    "    \n",
    "    __base_url = \"https://earthquake.usgs.gov/fdsnws/event/1/query?format=geojson\"\n",
    "\n",
    "    \n",
    "    def construye_consulta(self, desde_fecha, hasta_fecha):\n",
    "        \n",
    "        fecha1 = desde_fecha.__str__()\n",
    "        fecha2 = desde_fecha.__str__()\n",
    "        \n",
    "        return self.__base_url + '&starttime=' + fecha1 +'&endtime=' + fecha2 + '&minlatitude=-56.72500008&minlongitude=-80&maxlatitude=-17.49839982&maxlongitude=-66.07534742'"
   ]
  },
  {
   "cell_type": "markdown",
   "metadata": {},
   "source": [
    "2. Cree la clase `GeneradorConsulta` que herede de las clases `ConstructorConsultasUSGS` e `IteratorFechas`. Esta nueva clase es un *iterator* que en cada paso entrega una consulta a la API. Para ello haga _overridding_ (o anulación) de los metodos:\n",
    "\n",
    "    1. `__init__`: haga uso de la función `super` en dos ocasiones. *Hint*: Recuerde el MRO *como cadena* y su interacción con `super`, incialice clase base.\n",
    "    2. `__next__`: haga uso de la función `super` en dos ocasiones. *Hint*: Debe retornar una url construida con una *tupla* de fechas. \n",
    "    \n",
    "**Ejemplo**\n",
    "\n",
    "Las primera y última iteración deben retornar:\n",
    "\n",
    "```\n",
    "'https://earthquake.usgs.gov/fdsnws/event/1/query?format=geojson&starttime=1920-01-01&endtime=1925-01-01&minlatitude=-56.72500008&minlongitude=-80&maxlatitude=-17.49839982&maxlongitude=-66.07534742'\n",
    "   ...\n",
    "'https://earthquake.usgs.gov/fdsnws/event/1/query?format=geojson&starttime=2015-01-01&endtime=2020-01-01&minlatitude=-56.72500008&minlongitude=-80&maxlatitude=-17.49839982&maxlongitude=-66.07534742'\n",
    "```"
   ]
  },
  {
   "cell_type": "code",
   "execution_count": 319,
   "metadata": {},
   "outputs": [],
   "source": [
    "# Respuesta P3\n",
    "\n",
    "class GeneradorDeConsultas(ConstructorConsultasUSGS,IteratorFechas):\n",
    "    def __init__(self,n):\n",
    "        ConstructorConsultasUSGS.__init__(self)\n",
    "        IteratorFechas.__init__(self,n)\n",
    "    def Itera_consultas(self):\n",
    "        self.iter_fechas()\n",
    "        for i in range(len(self.intervalos)):\n",
    "            print(self.construye_consulta(self.intervalos[i][0],self.intervalos[i][1]))\n",
    "            "
   ]
  },
  {
   "cell_type": "code",
   "execution_count": 320,
   "metadata": {},
   "outputs": [
    {
     "name": "stdout",
     "output_type": "stream",
     "text": [
      "Desde: 1920-01-01  Hasta: 1925-01-01\n",
      "Desde: 1925-01-01  Hasta: 1930-01-01\n",
      "Desde: 1930-01-01  Hasta: 1935-01-01\n",
      "Desde: 1935-01-01  Hasta: 1940-01-01\n",
      "Desde: 1940-01-01  Hasta: 1945-01-01\n",
      "Desde: 1945-01-01  Hasta: 1950-01-01\n",
      "Desde: 1950-01-01  Hasta: 1955-01-01\n",
      "Desde: 1955-01-01  Hasta: 1960-01-01\n",
      "Desde: 1960-01-01  Hasta: 1965-01-01\n",
      "Desde: 1965-01-01  Hasta: 1970-01-01\n",
      "Desde: 1970-01-01  Hasta: 1975-01-01\n",
      "Desde: 1975-01-01  Hasta: 1980-01-01\n",
      "Desde: 1980-01-01  Hasta: 1985-01-01\n",
      "Desde: 1985-01-01  Hasta: 1990-01-01\n",
      "Desde: 1990-01-01  Hasta: 1995-01-01\n",
      "Desde: 1995-01-01  Hasta: 2000-01-01\n",
      "Desde: 2000-01-01  Hasta: 2005-01-01\n",
      "Desde: 2005-01-01  Hasta: 2010-01-01\n",
      "Desde: 2010-01-01  Hasta: 2015-01-01\n",
      "Desde: 2015-01-01  Hasta: 2020-01-01\n",
      "https://earthquake.usgs.gov/fdsnws/event/1/query?format=geojson&starttime=1920-01-01&endtime=1920-01-01&minlatitude=-56.72500008&minlongitude=-80&maxlatitude=-17.49839982&maxlongitude=-66.07534742\n",
      "https://earthquake.usgs.gov/fdsnws/event/1/query?format=geojson&starttime=1925-01-01&endtime=1925-01-01&minlatitude=-56.72500008&minlongitude=-80&maxlatitude=-17.49839982&maxlongitude=-66.07534742\n",
      "https://earthquake.usgs.gov/fdsnws/event/1/query?format=geojson&starttime=1930-01-01&endtime=1930-01-01&minlatitude=-56.72500008&minlongitude=-80&maxlatitude=-17.49839982&maxlongitude=-66.07534742\n",
      "https://earthquake.usgs.gov/fdsnws/event/1/query?format=geojson&starttime=1935-01-01&endtime=1935-01-01&minlatitude=-56.72500008&minlongitude=-80&maxlatitude=-17.49839982&maxlongitude=-66.07534742\n",
      "https://earthquake.usgs.gov/fdsnws/event/1/query?format=geojson&starttime=1940-01-01&endtime=1940-01-01&minlatitude=-56.72500008&minlongitude=-80&maxlatitude=-17.49839982&maxlongitude=-66.07534742\n",
      "https://earthquake.usgs.gov/fdsnws/event/1/query?format=geojson&starttime=1945-01-01&endtime=1945-01-01&minlatitude=-56.72500008&minlongitude=-80&maxlatitude=-17.49839982&maxlongitude=-66.07534742\n",
      "https://earthquake.usgs.gov/fdsnws/event/1/query?format=geojson&starttime=1950-01-01&endtime=1950-01-01&minlatitude=-56.72500008&minlongitude=-80&maxlatitude=-17.49839982&maxlongitude=-66.07534742\n",
      "https://earthquake.usgs.gov/fdsnws/event/1/query?format=geojson&starttime=1955-01-01&endtime=1955-01-01&minlatitude=-56.72500008&minlongitude=-80&maxlatitude=-17.49839982&maxlongitude=-66.07534742\n",
      "https://earthquake.usgs.gov/fdsnws/event/1/query?format=geojson&starttime=1960-01-01&endtime=1960-01-01&minlatitude=-56.72500008&minlongitude=-80&maxlatitude=-17.49839982&maxlongitude=-66.07534742\n",
      "https://earthquake.usgs.gov/fdsnws/event/1/query?format=geojson&starttime=1965-01-01&endtime=1965-01-01&minlatitude=-56.72500008&minlongitude=-80&maxlatitude=-17.49839982&maxlongitude=-66.07534742\n",
      "https://earthquake.usgs.gov/fdsnws/event/1/query?format=geojson&starttime=1970-01-01&endtime=1970-01-01&minlatitude=-56.72500008&minlongitude=-80&maxlatitude=-17.49839982&maxlongitude=-66.07534742\n",
      "https://earthquake.usgs.gov/fdsnws/event/1/query?format=geojson&starttime=1975-01-01&endtime=1975-01-01&minlatitude=-56.72500008&minlongitude=-80&maxlatitude=-17.49839982&maxlongitude=-66.07534742\n",
      "https://earthquake.usgs.gov/fdsnws/event/1/query?format=geojson&starttime=1980-01-01&endtime=1980-01-01&minlatitude=-56.72500008&minlongitude=-80&maxlatitude=-17.49839982&maxlongitude=-66.07534742\n",
      "https://earthquake.usgs.gov/fdsnws/event/1/query?format=geojson&starttime=1985-01-01&endtime=1985-01-01&minlatitude=-56.72500008&minlongitude=-80&maxlatitude=-17.49839982&maxlongitude=-66.07534742\n",
      "https://earthquake.usgs.gov/fdsnws/event/1/query?format=geojson&starttime=1990-01-01&endtime=1990-01-01&minlatitude=-56.72500008&minlongitude=-80&maxlatitude=-17.49839982&maxlongitude=-66.07534742\n",
      "https://earthquake.usgs.gov/fdsnws/event/1/query?format=geojson&starttime=1995-01-01&endtime=1995-01-01&minlatitude=-56.72500008&minlongitude=-80&maxlatitude=-17.49839982&maxlongitude=-66.07534742\n",
      "https://earthquake.usgs.gov/fdsnws/event/1/query?format=geojson&starttime=2000-01-01&endtime=2000-01-01&minlatitude=-56.72500008&minlongitude=-80&maxlatitude=-17.49839982&maxlongitude=-66.07534742\n",
      "https://earthquake.usgs.gov/fdsnws/event/1/query?format=geojson&starttime=2005-01-01&endtime=2005-01-01&minlatitude=-56.72500008&minlongitude=-80&maxlatitude=-17.49839982&maxlongitude=-66.07534742\n",
      "https://earthquake.usgs.gov/fdsnws/event/1/query?format=geojson&starttime=2010-01-01&endtime=2010-01-01&minlatitude=-56.72500008&minlongitude=-80&maxlatitude=-17.49839982&maxlongitude=-66.07534742\n",
      "https://earthquake.usgs.gov/fdsnws/event/1/query?format=geojson&starttime=2015-01-01&endtime=2015-01-01&minlatitude=-56.72500008&minlongitude=-80&maxlatitude=-17.49839982&maxlongitude=-66.07534742\n"
     ]
    },
    {
     "name": "stderr",
     "output_type": "stream",
     "text": [
      "C:\\Users\\paula\\Anaconda3\\lib\\site-packages\\ipykernel_launcher.py:23: UserWarning: fecha final excedida\n"
     ]
    }
   ],
   "source": [
    "GeneradorDeConsultas(5).Itera_consultas()"
   ]
  },
  {
   "cell_type": "markdown",
   "metadata": {},
   "source": [
    "## Segunda Parte: Recolección\n",
    "\n",
    "Construida la clase que genera las diferentes consultas, se procede a la recolección y analisis. Los datos seran almacendos en un diccionario con la siguiente estructura:\n",
    "\n",
    "```python\n",
    "{\n",
    "    'id': [id_1, id_2, ..., id_n],\n",
    "    'lugar': [lugar_1, lugar_2, ..., lugar_n],\n",
    "    'timestamp': [timestamp_1, timestamp_2, ..., timestamp_n],\n",
    "    'magnitud': [magnitud_1, magnitud_2, ..., magnitud_n],\n",
    "    'longitud': [longitud_1, longitud_2, ..., longitud_n ],\n",
    "    'latitud': [latitud_1, latitud_2, ..., latitud_n]\n",
    "}\n",
    "```"
   ]
  },
  {
   "cell_type": "markdown",
   "metadata": {},
   "source": [
    "### Pregunta 4\n",
    "\n",
    "Observe que la estructura anterior corresponde a un diccionario de listas. Se busca facilitar el almacenamiento de la información recolectada mediante una concatenación especial de diccionarios. Con tal fin, extienda la clase `dict`, definiendo la clase `DictDeListas`. Para esta nueva clase, defina el método `extiende_listas`, este método: \n",
    "\n",
    "1. Recibe como argumento otro objeto del tipo `DictDeListas` y levanta una excepción del tipo `ValueError` con el mensaje  `'El argumento debe ser de la clase DictDeListas'` en caso contrario.\n",
    "2. Para cada llave del objeto instanciado, concatena las listas asociadas a esa llave en cada uno de los dos objetos involucrados (el instanciado y el recibido como argumento). Haga uso del método `items` e itere sobre el segundo objeto `DictDeListas`.\n",
    "   \n",
    "**Ejemplo**\n",
    "\n",
    "El código\n",
    "\n",
    "```python\n",
    "# Se generan objetos DictDeListas con llaves en comun \n",
    "dict_ls_1 = DictDeListas({'llave': [1, 2,3]})\n",
    "dict_ls_2 = DictDeListas({'llave': [4, 5, 200]})\n",
    "\n",
    "# Se utiliza el metodo y se muestra su representacion __repr__\n",
    "dict_ls_1.extiende_listas(dict_ls_2)\n",
    "dict_ls_1\n",
    "```\n",
    "\n",
    "Genera el output:\n",
    "\n",
    "```\n",
    "{'llave': [1, 2, 3, 4, 5, 200]}\n",
    "```"
   ]
  },
  {
   "cell_type": "code",
   "execution_count": null,
   "metadata": {},
   "outputs": [],
   "source": [
    "# Respuesta P4"
   ]
  },
  {
   "cell_type": "markdown",
   "metadata": {},
   "source": [
    "Cuando se tiene una URL, basta introducirla al navegador para obtener su información asociada. En Python esto se puede realizar con la librería `requests`. En particular, el método `get` de tal librería, permite efectuar consultas en la API USGS, en efecto, si se analiza la respuesta de:"
   ]
  },
  {
   "cell_type": "code",
   "execution_count": null,
   "metadata": {},
   "outputs": [],
   "source": [
    "resp = requests.get(\n",
    "    'https://earthquake.usgs.gov/fdsnws/event/1/query?format=geojson&starttime=1920-01-01&endtime=1925-01-01&minlatitude=-56.72500008&minlongitude=-80&maxlatitude=-17.49839982&maxlongitude=-66.07534742'\n",
    ")"
   ]
  },
  {
   "cell_type": "markdown",
   "metadata": {},
   "source": [
    "Notamos que dicho objeto posee las siguientes caracteristicas:\n",
    "\n",
    "1. `__enter__` y `__exit__`. \n",
    "2. `json`, el cual retorna el contenido codificado de la respuesta. \n",
    "3. Un atributo `.ok` que retorna `True` si la consulta se responde con exito.\n",
    "\n",
    "Se puede observar el contenido `json` de la respuesta obtenida por medio de:"
   ]
  },
  {
   "cell_type": "code",
   "execution_count": null,
   "metadata": {},
   "outputs": [],
   "source": [
    "display(resp.json())\n",
    "resp.close()"
   ]
  },
  {
   "cell_type": "markdown",
   "metadata": {},
   "source": [
    "Aqui, se aprecia que la respuesta es un `dict` que contiene diferentes pares de (llaves, valor) de tipo (`str`, `obj`) donde`obj` puede ser `dict`, `list`, `str`, `int`, `float`, `NoneType`, etc..."
   ]
  },
  {
   "cell_type": "markdown",
   "metadata": {},
   "source": [
    "Para esta pregunta, nos centraremos en la llave `'features'`, que contiene una lista con elementos de tipo `dict` con la información recolectada. \n",
    "\n",
    "### Pregunta 5\n",
    "\n",
    "Las siguientes funciones lambda retornan los atributos de interés, observe que está en presencia de un diccionario de funciones"
   ]
  },
  {
   "cell_type": "code",
   "execution_count": null,
   "metadata": {},
   "outputs": [],
   "source": [
    "funciones_dict = {\n",
    "    'id': lambda x: x['id'],\n",
    "    'lugar': lambda x: x['properties']['place'],\n",
    "    'timestamp': lambda x: datetime.fromtimestamp(\n",
    "        x['properties']['time'] // 1000),\n",
    "    'magnitud': lambda x: x['properties']['mag'],\n",
    "    'longitud': lambda x: x['geometry']['coordinates'][0],\n",
    "    'latitud': lambda x: x['geometry']['coordinates'][1]\n",
    "}"
   ]
  },
  {
   "cell_type": "markdown",
   "metadata": {},
   "source": [
    "Así para obtener los atributos de interés del primer elemento asociado a `'features'` (primera observación) se puede ejecutar:"
   ]
  },
  {
   "cell_type": "code",
   "execution_count": null,
   "metadata": {},
   "outputs": [],
   "source": [
    "{k: func(resp.json()['features'][0]) for k, func in funciones_dict.items()}"
   ]
  },
  {
   "cell_type": "markdown",
   "metadata": {},
   "source": [
    "Recolecte los datos de la API haciendo uso de `funciones_dict`. En el siguiente procedimiento complete las 3 lineas indicadas con:\n",
    "```python\n",
    "    _ _ _ _ # Completar {n}\n",
    "\n",
    "```\n",
    "Para esto:\n",
    "1. En **Completar 1** haga uso de la función `map` y una conversión de tipo de dato a `list`.\n",
    "2. En **Completar 2** y **Completar 3**, opere sobre `observaciones_dict` y obtenga un objeto `DictDeListas` con la concatenación de todos los atributos de interés, para cada las consulta realizada a la API. *Hint* : recuerde la razón por la que definimos `DictDeListas`.\n",
    "\n",
    "**Obs**: La cantidad de observaciones recolectadas debería ser mayor a  63.500. Puede acceder a este dato por medio de `len(observaciones_dict['id'])`."
   ]
  },
  {
   "cell_type": "code",
   "execution_count": null,
   "metadata": {},
   "outputs": [],
   "source": [
    "# Respeusta P5\n",
    "\n",
    "# Inicializar el contenedor de los datos recolectados\n",
    "observaciones_dict = DictDeListas()\n",
    "\n",
    "# Generar las url de las consultas a la API\n",
    "for consulta_str in GeneradorConsulta(5):\n",
    "    \n",
    "    # Abre un context manager\n",
    "    with requests.get(consulta_str) as respuesta:\n",
    "        \n",
    "        # Verifica con el atributo .ok si se recibe la informacion\n",
    "        assert respuesta.ok, 'Respuesta erronea'\n",
    "    \n",
    "        # Almacena las features de interes\n",
    "        respuesta_dict = respuesta.json()\n",
    "        respuesta_features_lista = respuesta_dict['features']\n",
    "\n",
    "        # Reporta numero de resultados obtenidos en la iteracion\n",
    "        print('Se obtuvieron', len(respuesta_dict[\"features\"]), 'observaciones \\n')\n",
    "        \n",
    "        # Inicializa un contenedor de resultados\n",
    "        iter_dict = DictDeListas()\n",
    "\n",
    "        for k, func in funciones_dict.items():\n",
    "\n",
    "            iter_dict[k] = _ _ _ _ # Completar 1\n",
    "        \n",
    "        # Verifica si observaciones_dict esta vacio\n",
    "        if observaciones_dict:\n",
    "\n",
    "            _ _ _ _ # Completar 2\n",
    "\n",
    "        else:\n",
    "\n",
    "            _ _ _ _ # Completar 3\n",
    "\n",
    "        # espera 5 segundos antes de realizar la próxima consulta\n",
    "        sleep(5)"
   ]
  },
  {
   "cell_type": "markdown",
   "metadata": {},
   "source": [
    "Finalmente es posible proceder al análisis de los datos. Para ello se hará uso de  las librerías `numpy` y `scipy`. El primer paso será transformar las listas en numpy array usando los siguientes tipos de datos:"
   ]
  },
  {
   "cell_type": "code",
   "execution_count": null,
   "metadata": {},
   "outputs": [],
   "source": [
    "dtype_dict = {\n",
    "    'id': np.dtype('<U64'),\n",
    "    'lugar': np.dtype('<U64'),\n",
    "    'timestamp': np.dtype('<M8[ns]'),\n",
    "    'magnitud': np.dtype(float),\n",
    "    'longitud': np.dtype(float),\n",
    "    'latitud': np.dtype(float)\n",
    "}"
   ]
  },
  {
   "cell_type": "markdown",
   "metadata": {},
   "source": [
    "### Pregunta 6\n",
    "\n",
    "Transforme las listas de los atributos de interés contenidas en `observaciones_dict` en un `numpy.ndarray` de `dtype` específico.  Para ello, utilice `dtype_dict`, a modo de ejemplo, para los datos contenidos en `observaciones_dict['magnitud']` se debe transformar según  `dtype_dict['magnitud']` en un `numpy.ndarray` de `dtype` `np.dtype(float)`. \n",
    "1. Utilice comprensión de diccionarios y el método `.items()` para transformar los datos. Guarde el resultado en la variable `observaciones_np_dict`. \n",
    "2. Compruebe que el evento más antiguo contenido en `observaciones_np_dict` corresponde al 3 de agosto de 1920."
   ]
  },
  {
   "cell_type": "code",
   "execution_count": null,
   "metadata": {},
   "outputs": [],
   "source": [
    "# Respuesta P6 1\n",
    "\n",
    "observaciones_np_dict = _ _ _ _ # Completar\n"
   ]
  },
  {
   "cell_type": "code",
   "execution_count": null,
   "metadata": {},
   "outputs": [],
   "source": [
    "# Respuesta P6 2"
   ]
  },
  {
   "cell_type": "markdown",
   "metadata": {},
   "source": [
    "### Pregunta 7 (opcional)"
   ]
  },
  {
   "cell_type": "markdown",
   "metadata": {},
   "source": [
    "El objetivo del ejercicio es obtener estadísticas descriptivas de los movimientos telúricos ocurridos en Chile en los últimos 100 años. Para mostrar dichas estadísticas definiremos la función `muestra_estadisticas_descriptivas` que toma como argumento un  `numpy.ndarray` y muestra en pantalla las siguientes estadísticas según la clase de los elementos contenidos en dicho arreglo:\n",
    "- `'np.float64'` y `numpy.datetime64` (`datetime` en nanosegundos): número de observaciones, promedio, mediana, primer cuartil, tercer cuartil, minimo y maximo.\n",
    "- `'<U64'` (`str` de largo máximo 64): número de observaciones y moda.\n",
    "\n",
    "Como el comportamiento debe variar según el tipo de dato del argumento, sería conveniente usar el decorador `singledispatch`. Sin embargo al verificar:\n",
    "```python\n",
    ">>>[val.__class__ for val in observaciones_np_dict.values()]\n",
    "[numpy.ndarray,\n",
    " numpy.ndarray,\n",
    " numpy.ndarray,\n",
    " numpy.ndarray,\n",
    " numpy.ndarray,\n",
    " numpy.ndarray]\n",
    "```\n",
    "observamos que el todos los arrays contenidos en `observaciones_np_dict` pertenecen a la misma clase, `numpy.ndarray`. Por lo tanto es necesario volver a modificar el comportamiento de `singledispatch` para que sea capaz de distinguir entre el `dtype` del array que recibe como argumento."
   ]
  },
  {
   "cell_type": "markdown",
   "metadata": {},
   "source": [
    "1. Complete el código de la siguiente función para extender la funcionalidad de `singledispatch` para distinguir `dtype` del `numpy.ndarray` usado como argumento.  \n",
    "\n",
    "*Hint* : Revise el código de `singledispatchmeth`, [esta página](https://stackoverflow.com/questions/24601722/how-can-i-use-functools-singledispatch-with-instance-methods) puede ser de ayuda."
   ]
  },
  {
   "cell_type": "code",
   "execution_count": null,
   "metadata": {},
   "outputs": [],
   "source": [
    "# Respuesta P7 1\n",
    "def numpydispatch(func):\n",
    "    despachador = singledispatch(func)\n",
    "\n",
    "    def wrapper(*args, **kw):\n",
    "        return despachador.dispatch(_ _ _ _ )(_ _ _ _) # Completar\n",
    "    \n",
    "    wrapper.register = despachador.register\n",
    "    update_wrapper(wrapper, func)\n",
    "    return wrapper"
   ]
  },
  {
   "cell_type": "markdown",
   "metadata": {},
   "source": [
    "2. Para concluir complete las funciones de `muestra_estadisticas_descriptivas` asociadas a arreglos que contienen elementos de clase `np.float64` y `np.str_`. Estas deben mostrar en pantalla:\n",
    "    - `'np.float64'`: número de observaciones, promedio, mediana, primer cuartil, tercer cuartil, minimo y maximo.\n",
    "    - `'<U64'` (`str` de largo máximo 64): número de observaciones y moda. \n",
    "    \n",
    "   *Hint*: tenga especial cuidado con los valores faltantes `np.nan` que pueden presentarse en los arreglos con elementos de clase `'np.float64'`. Puede ser útil usar las funciones de `numpy` que permiten el manejo de valores faltantes. Por ejemplo `np.nanmean` como análoga a `np.mean`. \n",
    "    \n",
    "   **Obs**: se provee la función asociada a los array con elementos de la clase `np.datetime64` pues el método `view` está fuera del alcance del ejercicio.\n",
    "   \n",
    "   **Obs**: la notación `f\"texto{var}\"` es equivalente a `\"texto {}\".format(var)`. El cuál es un método diseñado para insertar valores dinámicos (variables del entorno) sobre un string. "
   ]
  },
  {
   "cell_type": "code",
   "execution_count": null,
   "metadata": {},
   "outputs": [],
   "source": [
    "# Respuesta P7 2\n",
    "@numpydispatch\n",
    "def muestra_estadisticas_descriptivas(array):\n",
    "    '''Define el comportamiento para objetos en general fuera de registry'''\n",
    "    print(f\"numero de observaciones: {len(array):,}\")\n",
    "        \n",
    "@muestra_estadisticas_descriptivas.register(np.datetime64)\n",
    "def _(array):\n",
    "    '''Define el comportamiento para los objetos '''\n",
    "    \n",
    "    # transforma array para que puedan calcularse las estadisticas deseadas\n",
    "    trans_array = observaciones_arr_dict['timestamp'].view('i8')\n",
    "    \n",
    "    # inicializa el contenedor de los str a mostrar en pantalla\n",
    "    lista_str = []\n",
    "    \n",
    "    # genera los str a mostrar en pantalla\n",
    "    lista_str.append(f\"numero de observaciones: {len(array):,}\")\n",
    "    lista_str.append(\n",
    "        f\"media: {trans_array.mean().astype('datetime64[ns]')}\"\n",
    "    )\n",
    "    lista_str.append(\n",
    "        f\"mediana: {np.median(trans_array).astype('datetime64[ns]')}\"\n",
    "    )\n",
    "    lista_str.append(\n",
    "        f\"primer cuartil: {np.quantile(trans_array, .25).astype('datetime64[ns]')}\"\n",
    "    )\n",
    "    lista_str.append(\n",
    "        f\"tercer cuartil: {np.quantile(trans_array, .75).astype('datetime64[ns]')}\"\n",
    "    )\n",
    "    lista_str.append(\n",
    "        f\"minimo: {trans_array.min().astype('datetime64[ns]')}\"\n",
    "    )\n",
    "    lista_str.append(\n",
    "        f\"maximo: {trans_array.max().astype('datetime64[ns]')}\"\n",
    "    )\n",
    "    \n",
    "    # muestra los elementos de la lista separados por un salto de linea\n",
    "    print('\\n'.join(lista_str))\n",
    "    \n",
    "@muestra_estadisticas_descriptivas.register(np.float64)\n",
    "def _(array):\n",
    "    # Completar\n",
    "    \n",
    "    \n",
    "@muestra_estadisticas_descriptivas.register(np.str_)\n",
    "def _(array):\n",
    "    # Completar"
   ]
  }
 ],
 "metadata": {
  "kernelspec": {
   "display_name": "Python 3",
   "language": "python",
   "name": "python3"
  },
  "language_info": {
   "codemirror_mode": {
    "name": "ipython",
    "version": 3
   },
   "file_extension": ".py",
   "mimetype": "text/x-python",
   "name": "python",
   "nbconvert_exporter": "python",
   "pygments_lexer": "ipython3",
   "version": "3.7.4"
  },
  "nbTranslate": {
   "displayLangs": [
    "es",
    "en"
   ],
   "hotkey": "alt-t",
   "langInMainMenu": true,
   "sourceLang": "en",
   "targetLang": "es",
   "useGoogleTranslate": true
  },
  "toc": {
   "base_numbering": 1,
   "nav_menu": {},
   "number_sections": true,
   "sideBar": true,
   "skip_h1_title": false,
   "title_cell": "Table of Contents",
   "title_sidebar": "Contents",
   "toc_cell": false,
   "toc_position": {},
   "toc_section_display": true,
   "toc_window_display": true
  }
 },
 "nbformat": 4,
 "nbformat_minor": 4
}
